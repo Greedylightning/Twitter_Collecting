{
 "cells": [
  {
   "cell_type": "code",
   "execution_count": 2,
   "metadata": {
    "collapsed": false
   },
   "outputs": [
    {
     "data": {
      "text/html": [
       "\n",
       "           <script>\n",
       "               \n",
       "                function vct_load_lib(url, callback){\n",
       "                      if(typeof d3 !== 'undefined' &&\n",
       "                         url === 'http://d3js.org/d3.v3.min.js'){\n",
       "                        callback()\n",
       "                      }\n",
       "                      var s = document.createElement('script');\n",
       "                      s.src = url;\n",
       "                      s.async = true;\n",
       "                      s.onreadystatechange = s.onload = callback;\n",
       "                      s.onerror = function(){\n",
       "                        console.warn(\"failed to load library \" + url);\n",
       "                        };\n",
       "                      document.getElementsByTagName(\"head\")[0].appendChild(s);\n",
       "                };\n",
       "                var vincent_event = new CustomEvent(\n",
       "                  \"vincent_libs_loaded\",\n",
       "                  {bubbles: true, cancelable: true}\n",
       "                );\n",
       "                \n",
       "               function load_all_libs(){\n",
       "                  console.log('Loading Vincent libs...')\n",
       "                  vct_load_lib('http://d3js.org/d3.v3.min.js', function(){\n",
       "                  vct_load_lib('http://d3js.org/d3.geo.projection.v0.min.js', function(){\n",
       "                  vct_load_lib('http://wrobstory.github.io/d3-cloud/d3.layout.cloud.js', function(){\n",
       "                  vct_load_lib('http://wrobstory.github.io/vega/vega.v1.3.3.js', function(){\n",
       "                  window.dispatchEvent(vincent_event);\n",
       "                  });\n",
       "                  });\n",
       "                  });\n",
       "                  });\n",
       "               };\n",
       "               if(typeof define === \"function\" && define.amd){\n",
       "                    if (window['d3'] === undefined ||\n",
       "                        window['topojson'] === undefined){\n",
       "                        require.config(\n",
       "                            {paths: {\n",
       "                              d3: 'http://d3js.org/d3.v3.min',\n",
       "                              topojson: 'http://d3js.org/topojson.v1.min'\n",
       "                              }\n",
       "                            }\n",
       "                          );\n",
       "                        require([\"d3\"], function(d3){\n",
       "                            console.log('Loading Vincent from require.js...')\n",
       "                            window.d3 = d3;\n",
       "                            require([\"topojson\"], function(topojson){\n",
       "                                window.topojson = topojson;\n",
       "                                load_all_libs();\n",
       "                            });\n",
       "                        });\n",
       "                    } else {\n",
       "                        load_all_libs();\n",
       "                    };\n",
       "               }else{\n",
       "                    console.log('Require.js not found, loading manually...')\n",
       "                    load_all_libs();\n",
       "               };\n",
       "\n",
       "           </script>"
      ],
      "text/plain": [
       "<IPython.core.display.HTML object>"
      ]
     },
     "metadata": {},
     "output_type": "display_data"
    },
    {
     "data": {
      "text/html": [
       "<div id=\"viseeea27fedd88483dbd8d01383d128fbc\"></div>\n",
       "<script>\n",
       "   ( function() {\n",
       "     var _do_plot = function() {\n",
       "       if (typeof vg === 'undefined') {\n",
       "         window.addEventListener('vincent_libs_loaded', _do_plot)\n",
       "         return;\n",
       "       }\n",
       "       vg.parse.spec({\"axes\": [{\"scale\": \"x\", \"type\": \"x\"}, {\"scale\": \"y\", \"type\": \"y\"}], \"data\": [{\"name\": \"table\", \"values\": [{\"col\": \"data\", \"idx\": \"Silver\", \"val\": 51}, {\"col\": \"data\", \"idx\": \"Free\", \"val\": 36}, {\"col\": \"data\", \"idx\": \"Bid\", \"val\": 33}, {\"col\": \"data\", \"idx\": \"Antique\", \"val\": 24}, {\"col\": \"data\", \"idx\": \"Bead\", \"val\": 21}, {\"col\": \"data\", \"idx\": \"Necklace\", \"val\": 19}, {\"col\": \"data\", \"idx\": \"Pendant\", \"val\": 19}, {\"col\": \"data\", \"idx\": \"Old\", \"val\": 19}, {\"col\": \"data\", \"idx\": \"Dzi\", \"val\": 19}, {\"col\": \"data\", \"idx\": \"shipping\", \"val\": 18}, {\"col\": \"data\", \"idx\": \"occupied\", \"val\": 18}, {\"col\": \"data\", \"idx\": \"meteorites\", \"val\": 18}, {\"col\": \"data\", \"idx\": \"Photo\", \"val\": 17}, {\"col\": \"data\", \"idx\": \"One\", \"val\": 16}, {\"col\": \"data\", \"idx\": \"free\", \"val\": 16}, {\"col\": \"data\", \"idx\": \"del\", \"val\": 16}, {\"col\": \"data\", \"idx\": \"Bracelet\", \"val\": 16}, {\"col\": \"data\", \"idx\": \"love\", \"val\": 16}, {\"col\": \"data\", \"idx\": \"silver\", \"val\": 15}, {\"col\": \"data\", \"idx\": \"https://t.co/\", \"val\": 15}, {\"col\": \"data\", \"idx\": \"old\", \"val\": 14}, {\"col\": \"data\", \"idx\": \"Nepal\", \"val\": 14}, {\"col\": \"data\", \"idx\": \"Chain\", \"val\": 14}, {\"col\": \"data\", \"idx\": \"Direction\", \"val\": 14}, {\"col\": \"data\", \"idx\": \"Glass\", \"val\": 14}, {\"col\": \"data\", \"idx\": \"New\", \"val\": 14}, {\"col\": \"data\", \"idx\": \"Cabochon\", \"val\": 14}, {\"col\": \"data\", \"idx\": \"power\", \"val\": 13}, {\"col\": \"data\", \"idx\": \"amulet\", \"val\": 13}, {\"col\": \"data\", \"idx\": \"Communist\", \"val\": 13}, {\"col\": \"data\", \"idx\": \"Lama\", \"val\": 12}, {\"col\": \"data\", \"idx\": \"years\", \"val\": 12}, {\"col\": \"data\", \"idx\": \"will\", \"val\": 12}, {\"col\": \"data\", \"idx\": \"pix\", \"val\": 12}, {\"col\": \"data\", \"idx\": \"Dalai\", \"val\": 12}, {\"col\": \"data\", \"idx\": \"tibetan\", \"val\": 12}, {\"col\": \"data\", \"idx\": \"Bangle\", \"val\": 12}, {\"col\": \"data\", \"idx\": \"pressure\", \"val\": 11}, {\"col\": \"data\", \"idx\": \"Boycott\", \"val\": 11}, {\"col\": \"data\", \"idx\": \"consumers\", \"val\": 11}, {\"col\": \"data\", \"idx\": \"Rincon\", \"val\": 11}, {\"col\": \"data\", \"idx\": \"repressions\", \"val\": 11}, {\"col\": \"data\", \"idx\": \"latent\", \"val\": 11}, {\"col\": \"data\", \"idx\": \"masters\", \"val\": 10}, {\"col\": \"data\", \"idx\": \"exploitation\", \"val\": 10}, {\"col\": \"data\", \"idx\": \"part\", \"val\": 10}, {\"col\": \"data\", \"idx\": \"https://t.co/sU4elYDBH4\", \"val\": 10}, {\"col\": \"data\", \"idx\": \"environment\", \"val\": 10}, {\"col\": \"data\", \"idx\": \"Great\", \"val\": 10}, {\"col\": \"data\", \"idx\": \"Vini\", \"val\": 10}]}, {\"name\": \"stats\", \"source\": \"table\", \"transform\": [{\"keys\": [\"data.idx\"], \"type\": \"facet\"}, {\"type\": \"stats\", \"value\": \"data.val\"}]}], \"height\": 500, \"legends\": [], \"marks\": [{\"from\": {\"data\": \"table\", \"transform\": [{\"keys\": [\"data.col\"], \"type\": \"facet\"}, {\"height\": \"data.val\", \"point\": \"data.idx\", \"type\": \"stack\"}]}, \"marks\": [{\"properties\": {\"enter\": {\"fill\": {\"field\": \"data.col\", \"scale\": \"color\"}, \"width\": {\"band\": true, \"offset\": -1, \"scale\": \"x\"}, \"x\": {\"field\": \"data.idx\", \"scale\": \"x\"}, \"y\": {\"field\": \"y\", \"scale\": \"y\"}, \"y2\": {\"field\": \"y2\", \"scale\": \"y\"}}}, \"type\": \"rect\"}], \"type\": \"group\"}], \"padding\": \"auto\", \"scales\": [{\"domain\": {\"data\": \"table\", \"field\": \"data.idx\"}, \"name\": \"x\", \"range\": \"width\", \"type\": \"ordinal\", \"zero\": false}, {\"domain\": {\"data\": \"stats\", \"field\": \"sum\"}, \"name\": \"y\", \"nice\": true, \"range\": \"height\"}, {\"domain\": {\"data\": \"table\", \"field\": \"data.col\"}, \"name\": \"color\", \"range\": \"category20\", \"type\": \"ordinal\"}], \"width\": 960}, function(chart) {\n",
       "         chart({el: \"#viseeea27fedd88483dbd8d01383d128fbc\"}).update();\n",
       "       });\n",
       "     };\n",
       "     _do_plot();\n",
       "   })();\n",
       "</script>\n",
       "<style>.vega canvas {width: 100%;}</style>\n",
       "        "
      ],
      "text/plain": [
       "<IPython.core.display.HTML object>"
      ]
     },
     "metadata": {},
     "output_type": "display_data"
    }
   ],
   "source": [
    "import vincent\n",
    "vincent.core.initialize_notebook()\n",
    "\n",
    "word_freq = [('Silver', 51), ('Free', 36), ('Bid', 33), ('Antique', 24), ('Bead', 21), ('Necklace', 19), ('Pendant', 19), ('Old', 19), ('Dzi', 19), ('shipping', 18), ('occupied', 18), ('meteorites', 18), ('Photo', 17), ('One', 16), ('free', 16), ('del', 16), ('Bracelet', 16), ('love', 16), ('silver', 15), ('https://t.co/', 15), ('old', 14)]\n",
    "\n",
    "labels, frequence = zip(*word_freq)\n",
    "data = {\"data\" : frequence,\"x\" : labels}\n",
    "bar = vincent.Bar(data,iter_idx='x')\n",
    "bar.display()"
   ]
  },
  {
   "cell_type": "code",
   "execution_count": null,
   "metadata": {
    "collapsed": true
   },
   "outputs": [],
   "source": []
  }
 ],
 "metadata": {
  "kernelspec": {
   "display_name": "Python 3",
   "language": "python",
   "name": "python3"
  },
  "language_info": {
   "codemirror_mode": {
    "name": "ipython",
    "version": 3
   },
   "file_extension": ".py",
   "mimetype": "text/x-python",
   "name": "python",
   "nbconvert_exporter": "python",
   "pygments_lexer": "ipython3",
   "version": "3.5.1"
  }
 },
 "nbformat": 4,
 "nbformat_minor": 0
}
